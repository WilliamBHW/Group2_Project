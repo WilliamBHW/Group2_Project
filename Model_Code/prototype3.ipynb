{
 "cells": [
  {
   "cell_type": "code",
   "execution_count": 73,
   "metadata": {},
   "outputs": [],
   "source": [
    "# Import dependencies\n",
    "import pandas as pd\n",
    "import hvplot.pandas\n",
    "import plotly.express as px\n",
    "from path import Path\n",
    "import matplotlib.pyplot as plt\n",
    "from sklearn.preprocessing import StandardScaler, MinMaxScaler, normalize\n",
    "from sklearn.decomposition import PCA\n",
    "from sklearn.cluster import KMeans, AgglomerativeClustering\n",
    "from scipy.cluster.hierarchy import dendrogram, linkage"
   ]
  },
  {
   "cell_type": "code",
   "execution_count": 53,
   "metadata": {},
   "outputs": [
    {
     "data": {
      "text/html": [
       "<div>\n",
       "<style scoped>\n",
       "    .dataframe tbody tr th:only-of-type {\n",
       "        vertical-align: middle;\n",
       "    }\n",
       "\n",
       "    .dataframe tbody tr th {\n",
       "        vertical-align: top;\n",
       "    }\n",
       "\n",
       "    .dataframe thead th {\n",
       "        text-align: right;\n",
       "    }\n",
       "</style>\n",
       "<table border=\"1\" class=\"dataframe\">\n",
       "  <thead>\n",
       "    <tr style=\"text-align: right;\">\n",
       "      <th></th>\n",
       "      <th>reporting_phu</th>\n",
       "      <th>reporting_phu_address</th>\n",
       "      <th>reporting_phu_city</th>\n",
       "      <th>reporting_phu_postal_code</th>\n",
       "      <th>reporting_phu_website</th>\n",
       "      <th>reporting_phu_latitude</th>\n",
       "      <th>reporting_phu_longitude</th>\n",
       "      <th>reporting_phu_id</th>\n",
       "      <th>2019</th>\n",
       "      <th>2020</th>\n",
       "      <th>...</th>\n",
       "      <th>21-mar</th>\n",
       "      <th>21-apr</th>\n",
       "      <th>21-may</th>\n",
       "      <th>21-jun</th>\n",
       "      <th>21-jul</th>\n",
       "      <th>21-aug</th>\n",
       "      <th>21-sep</th>\n",
       "      <th>21-oct</th>\n",
       "      <th>21-nov</th>\n",
       "      <th>21-dec</th>\n",
       "    </tr>\n",
       "  </thead>\n",
       "  <tbody>\n",
       "    <tr>\n",
       "      <th>0</th>\n",
       "      <td>Peel Public Health</td>\n",
       "      <td>7120 Hurontario Street</td>\n",
       "      <td>Mississauga</td>\n",
       "      <td>L5W 1N4</td>\n",
       "      <td>www.peelregion.ca/health/</td>\n",
       "      <td>43.647471</td>\n",
       "      <td>-79.708893</td>\n",
       "      <td>2253</td>\n",
       "      <td>0</td>\n",
       "      <td>42670</td>\n",
       "      <td>...</td>\n",
       "      <td>10872</td>\n",
       "      <td>23756</td>\n",
       "      <td>11744</td>\n",
       "      <td>1485</td>\n",
       "      <td>583</td>\n",
       "      <td>2308</td>\n",
       "      <td>2219</td>\n",
       "      <td>1330</td>\n",
       "      <td>20</td>\n",
       "      <td>0</td>\n",
       "    </tr>\n",
       "    <tr>\n",
       "      <th>1</th>\n",
       "      <td>Haldimand-Norfolk Health Unit</td>\n",
       "      <td>12 Gilbertson Drive</td>\n",
       "      <td>Simcoe</td>\n",
       "      <td>N3Y 4N5</td>\n",
       "      <td>www.hnhu.org</td>\n",
       "      <td>42.847825</td>\n",
       "      <td>-80.303815</td>\n",
       "      <td>2234</td>\n",
       "      <td>0</td>\n",
       "      <td>1013</td>\n",
       "      <td>...</td>\n",
       "      <td>271</td>\n",
       "      <td>675</td>\n",
       "      <td>279</td>\n",
       "      <td>45</td>\n",
       "      <td>31</td>\n",
       "      <td>94</td>\n",
       "      <td>108</td>\n",
       "      <td>121</td>\n",
       "      <td>6</td>\n",
       "      <td>0</td>\n",
       "    </tr>\n",
       "    <tr>\n",
       "      <th>2</th>\n",
       "      <td>Northwestern Health Unit</td>\n",
       "      <td>210 First Street North</td>\n",
       "      <td>Kenora</td>\n",
       "      <td>P9N 2K4</td>\n",
       "      <td>www.nwhu.on.ca</td>\n",
       "      <td>49.769615</td>\n",
       "      <td>-94.488254</td>\n",
       "      <td>2249</td>\n",
       "      <td>0</td>\n",
       "      <td>198</td>\n",
       "      <td>...</td>\n",
       "      <td>220</td>\n",
       "      <td>255</td>\n",
       "      <td>94</td>\n",
       "      <td>27</td>\n",
       "      <td>13</td>\n",
       "      <td>23</td>\n",
       "      <td>52</td>\n",
       "      <td>18</td>\n",
       "      <td>0</td>\n",
       "      <td>0</td>\n",
       "    </tr>\n",
       "    <tr>\n",
       "      <th>3</th>\n",
       "      <td>Kingston, Frontenac and Lennox &amp; Addington Pub...</td>\n",
       "      <td>221 Portsmouth Avenue</td>\n",
       "      <td>Kingston</td>\n",
       "      <td>K7M 1V5</td>\n",
       "      <td>www.kflaph.ca</td>\n",
       "      <td>44.227874</td>\n",
       "      <td>-76.525211</td>\n",
       "      <td>2241</td>\n",
       "      <td>0</td>\n",
       "      <td>562</td>\n",
       "      <td>...</td>\n",
       "      <td>226</td>\n",
       "      <td>364</td>\n",
       "      <td>227</td>\n",
       "      <td>23</td>\n",
       "      <td>25</td>\n",
       "      <td>44</td>\n",
       "      <td>128</td>\n",
       "      <td>177</td>\n",
       "      <td>18</td>\n",
       "      <td>0</td>\n",
       "    </tr>\n",
       "    <tr>\n",
       "      <th>4</th>\n",
       "      <td>Niagara Region Public Health Department</td>\n",
       "      <td>1815 Sir Isaac Brock Way</td>\n",
       "      <td>Thorold</td>\n",
       "      <td>L2V 4T7</td>\n",
       "      <td>www.niagararegion.ca/health</td>\n",
       "      <td>43.116537</td>\n",
       "      <td>-79.241220</td>\n",
       "      <td>2246</td>\n",
       "      <td>0</td>\n",
       "      <td>4770</td>\n",
       "      <td>...</td>\n",
       "      <td>1421</td>\n",
       "      <td>4201</td>\n",
       "      <td>1572</td>\n",
       "      <td>381</td>\n",
       "      <td>101</td>\n",
       "      <td>526</td>\n",
       "      <td>846</td>\n",
       "      <td>495</td>\n",
       "      <td>35</td>\n",
       "      <td>0</td>\n",
       "    </tr>\n",
       "  </tbody>\n",
       "</table>\n",
       "<p>5 rows × 50 columns</p>\n",
       "</div>"
      ],
      "text/plain": [
       "                                       reporting_phu  \\\n",
       "0                                 Peel Public Health   \n",
       "1                      Haldimand-Norfolk Health Unit   \n",
       "2                           Northwestern Health Unit   \n",
       "3  Kingston, Frontenac and Lennox & Addington Pub...   \n",
       "4            Niagara Region Public Health Department   \n",
       "\n",
       "      reporting_phu_address reporting_phu_city reporting_phu_postal_code  \\\n",
       "0    7120 Hurontario Street        Mississauga                   L5W 1N4   \n",
       "1       12 Gilbertson Drive             Simcoe                   N3Y 4N5   \n",
       "2    210 First Street North             Kenora                   P9N 2K4   \n",
       "3     221 Portsmouth Avenue           Kingston                   K7M 1V5   \n",
       "4  1815 Sir Isaac Brock Way            Thorold                   L2V 4T7   \n",
       "\n",
       "         reporting_phu_website  reporting_phu_latitude  \\\n",
       "0    www.peelregion.ca/health/               43.647471   \n",
       "1                 www.hnhu.org               42.847825   \n",
       "2               www.nwhu.on.ca               49.769615   \n",
       "3                www.kflaph.ca               44.227874   \n",
       "4  www.niagararegion.ca/health               43.116537   \n",
       "\n",
       "   reporting_phu_longitude  reporting_phu_id  2019   2020  ...  21-mar  \\\n",
       "0               -79.708893              2253     0  42670  ...   10872   \n",
       "1               -80.303815              2234     0   1013  ...     271   \n",
       "2               -94.488254              2249     0    198  ...     220   \n",
       "3               -76.525211              2241     0    562  ...     226   \n",
       "4               -79.241220              2246     0   4770  ...    1421   \n",
       "\n",
       "   21-apr  21-may  21-jun  21-jul  21-aug  21-sep  21-oct  21-nov  21-dec  \n",
       "0   23756   11744    1485     583    2308    2219    1330      20       0  \n",
       "1     675     279      45      31      94     108     121       6       0  \n",
       "2     255      94      27      13      23      52      18       0       0  \n",
       "3     364     227      23      25      44     128     177      18       0  \n",
       "4    4201    1572     381     101     526     846     495      35       0  \n",
       "\n",
       "[5 rows x 50 columns]"
      ]
     },
     "execution_count": 53,
     "metadata": {},
     "output_type": "execute_result"
    }
   ],
   "source": [
    "file = Path('../Resources/feature_engineered_byPHUs_v2.csv')\n",
    "covid_df = pd.read_csv(file)\n",
    "covid_df.head()"
   ]
  },
  {
   "cell_type": "code",
   "execution_count": 54,
   "metadata": {},
   "outputs": [
    {
     "data": {
      "text/html": [
       "<div>\n",
       "<style scoped>\n",
       "    .dataframe tbody tr th:only-of-type {\n",
       "        vertical-align: middle;\n",
       "    }\n",
       "\n",
       "    .dataframe tbody tr th {\n",
       "        vertical-align: top;\n",
       "    }\n",
       "\n",
       "    .dataframe thead th {\n",
       "        text-align: right;\n",
       "    }\n",
       "</style>\n",
       "<table border=\"1\" class=\"dataframe\">\n",
       "  <thead>\n",
       "    <tr style=\"text-align: right;\">\n",
       "      <th></th>\n",
       "      <th>reporting_phu_id</th>\n",
       "      <th>jan</th>\n",
       "      <th>feb</th>\n",
       "      <th>mar</th>\n",
       "      <th>apr</th>\n",
       "      <th>may</th>\n",
       "      <th>jun</th>\n",
       "      <th>jul</th>\n",
       "      <th>aug</th>\n",
       "      <th>sep</th>\n",
       "      <th>oct</th>\n",
       "      <th>nov</th>\n",
       "      <th>dec</th>\n",
       "    </tr>\n",
       "  </thead>\n",
       "  <tbody>\n",
       "    <tr>\n",
       "      <th>0</th>\n",
       "      <td>2253</td>\n",
       "      <td>13073</td>\n",
       "      <td>5986</td>\n",
       "      <td>11558</td>\n",
       "      <td>25910</td>\n",
       "      <td>13720</td>\n",
       "      <td>2577</td>\n",
       "      <td>1272</td>\n",
       "      <td>3055</td>\n",
       "      <td>4837</td>\n",
       "      <td>6621</td>\n",
       "      <td>13062</td>\n",
       "      <td>14367</td>\n",
       "    </tr>\n",
       "    <tr>\n",
       "      <th>1</th>\n",
       "      <td>2234</td>\n",
       "      <td>298</td>\n",
       "      <td>101</td>\n",
       "      <td>377</td>\n",
       "      <td>762</td>\n",
       "      <td>466</td>\n",
       "      <td>96</td>\n",
       "      <td>51</td>\n",
       "      <td>110</td>\n",
       "      <td>122</td>\n",
       "      <td>179</td>\n",
       "      <td>128</td>\n",
       "      <td>350</td>\n",
       "    </tr>\n",
       "    <tr>\n",
       "      <th>2</th>\n",
       "      <td>2249</td>\n",
       "      <td>70</td>\n",
       "      <td>227</td>\n",
       "      <td>230</td>\n",
       "      <td>262</td>\n",
       "      <td>100</td>\n",
       "      <td>45</td>\n",
       "      <td>16</td>\n",
       "      <td>25</td>\n",
       "      <td>72</td>\n",
       "      <td>31</td>\n",
       "      <td>50</td>\n",
       "      <td>69</td>\n",
       "    </tr>\n",
       "    <tr>\n",
       "      <th>3</th>\n",
       "      <td>2241</td>\n",
       "      <td>97</td>\n",
       "      <td>53</td>\n",
       "      <td>278</td>\n",
       "      <td>372</td>\n",
       "      <td>231</td>\n",
       "      <td>57</td>\n",
       "      <td>36</td>\n",
       "      <td>47</td>\n",
       "      <td>165</td>\n",
       "      <td>206</td>\n",
       "      <td>113</td>\n",
       "      <td>289</td>\n",
       "    </tr>\n",
       "    <tr>\n",
       "      <th>4</th>\n",
       "      <td>2246</td>\n",
       "      <td>3319</td>\n",
       "      <td>599</td>\n",
       "      <td>1623</td>\n",
       "      <td>4549</td>\n",
       "      <td>1730</td>\n",
       "      <td>442</td>\n",
       "      <td>217</td>\n",
       "      <td>587</td>\n",
       "      <td>1059</td>\n",
       "      <td>920</td>\n",
       "      <td>759</td>\n",
       "      <td>2462</td>\n",
       "    </tr>\n",
       "  </tbody>\n",
       "</table>\n",
       "</div>"
      ],
      "text/plain": [
       "   reporting_phu_id    jan   feb    mar    apr    may   jun   jul   aug   sep  \\\n",
       "0              2253  13073  5986  11558  25910  13720  2577  1272  3055  4837   \n",
       "1              2234    298   101    377    762    466    96    51   110   122   \n",
       "2              2249     70   227    230    262    100    45    16    25    72   \n",
       "3              2241     97    53    278    372    231    57    36    47   165   \n",
       "4              2246   3319   599   1623   4549   1730   442   217   587  1059   \n",
       "\n",
       "    oct    nov    dec  \n",
       "0  6621  13062  14367  \n",
       "1   179    128    350  \n",
       "2    31     50     69  \n",
       "3   206    113    289  \n",
       "4   920    759   2462  "
      ]
     },
     "execution_count": 54,
     "metadata": {},
     "output_type": "execute_result"
    }
   ],
   "source": [
    "case_df = covid_df[['reporting_phu_id', 'jan', 'feb', 'mar', 'apr', 'may', \n",
    "'jun', 'jul', 'aug', 'sep', 'oct', 'nov', 'dec']]\n",
    "case_df.head()"
   ]
  },
  {
   "cell_type": "code",
   "execution_count": 55,
   "metadata": {},
   "outputs": [
    {
     "name": "stderr",
     "output_type": "stream",
     "text": [
      "C:\\Users\\User\\anaconda3\\envs\\mlenv\\lib\\site-packages\\ipykernel_launcher.py:2: SettingWithCopyWarning: \n",
      "A value is trying to be set on a copy of a slice from a DataFrame.\n",
      "Try using .loc[row_indexer,col_indexer] = value instead\n",
      "\n",
      "See the caveats in the documentation: https://pandas.pydata.org/pandas-docs/stable/user_guide/indexing.html#returning-a-view-versus-a-copy\n",
      "  \n",
      "C:\\Users\\User\\anaconda3\\envs\\mlenv\\lib\\site-packages\\ipykernel_launcher.py:3: SettingWithCopyWarning: \n",
      "A value is trying to be set on a copy of a slice from a DataFrame.\n",
      "Try using .loc[row_indexer,col_indexer] = value instead\n",
      "\n",
      "See the caveats in the documentation: https://pandas.pydata.org/pandas-docs/stable/user_guide/indexing.html#returning-a-view-versus-a-copy\n",
      "  This is separate from the ipykernel package so we can avoid doing imports until\n",
      "C:\\Users\\User\\anaconda3\\envs\\mlenv\\lib\\site-packages\\ipykernel_launcher.py:4: SettingWithCopyWarning: \n",
      "A value is trying to be set on a copy of a slice from a DataFrame.\n",
      "Try using .loc[row_indexer,col_indexer] = value instead\n",
      "\n",
      "See the caveats in the documentation: https://pandas.pydata.org/pandas-docs/stable/user_guide/indexing.html#returning-a-view-versus-a-copy\n",
      "  after removing the cwd from sys.path.\n",
      "C:\\Users\\User\\anaconda3\\envs\\mlenv\\lib\\site-packages\\ipykernel_launcher.py:5: SettingWithCopyWarning: \n",
      "A value is trying to be set on a copy of a slice from a DataFrame.\n",
      "Try using .loc[row_indexer,col_indexer] = value instead\n",
      "\n",
      "See the caveats in the documentation: https://pandas.pydata.org/pandas-docs/stable/user_guide/indexing.html#returning-a-view-versus-a-copy\n",
      "  \"\"\"\n"
     ]
    },
    {
     "data": {
      "text/html": [
       "<div>\n",
       "<style scoped>\n",
       "    .dataframe tbody tr th:only-of-type {\n",
       "        vertical-align: middle;\n",
       "    }\n",
       "\n",
       "    .dataframe tbody tr th {\n",
       "        vertical-align: top;\n",
       "    }\n",
       "\n",
       "    .dataframe thead th {\n",
       "        text-align: right;\n",
       "    }\n",
       "</style>\n",
       "<table border=\"1\" class=\"dataframe\">\n",
       "  <thead>\n",
       "    <tr style=\"text-align: right;\">\n",
       "      <th></th>\n",
       "      <th>reporting_phu_id</th>\n",
       "      <th>jan</th>\n",
       "      <th>feb</th>\n",
       "      <th>mar</th>\n",
       "      <th>apr</th>\n",
       "      <th>may</th>\n",
       "      <th>jun</th>\n",
       "      <th>jul</th>\n",
       "      <th>aug</th>\n",
       "      <th>sep</th>\n",
       "      <th>oct</th>\n",
       "      <th>nov</th>\n",
       "      <th>dec</th>\n",
       "      <th>Q1</th>\n",
       "      <th>Q2</th>\n",
       "      <th>Q3</th>\n",
       "      <th>Q4</th>\n",
       "    </tr>\n",
       "  </thead>\n",
       "  <tbody>\n",
       "    <tr>\n",
       "      <th>0</th>\n",
       "      <td>2253</td>\n",
       "      <td>13073</td>\n",
       "      <td>5986</td>\n",
       "      <td>11558</td>\n",
       "      <td>25910</td>\n",
       "      <td>13720</td>\n",
       "      <td>2577</td>\n",
       "      <td>1272</td>\n",
       "      <td>3055</td>\n",
       "      <td>4837</td>\n",
       "      <td>6621</td>\n",
       "      <td>13062</td>\n",
       "      <td>14367</td>\n",
       "      <td>33426</td>\n",
       "      <td>51188</td>\n",
       "      <td>6904</td>\n",
       "      <td>24520</td>\n",
       "    </tr>\n",
       "    <tr>\n",
       "      <th>1</th>\n",
       "      <td>2234</td>\n",
       "      <td>298</td>\n",
       "      <td>101</td>\n",
       "      <td>377</td>\n",
       "      <td>762</td>\n",
       "      <td>466</td>\n",
       "      <td>96</td>\n",
       "      <td>51</td>\n",
       "      <td>110</td>\n",
       "      <td>122</td>\n",
       "      <td>179</td>\n",
       "      <td>128</td>\n",
       "      <td>350</td>\n",
       "      <td>749</td>\n",
       "      <td>1605</td>\n",
       "      <td>257</td>\n",
       "      <td>429</td>\n",
       "    </tr>\n",
       "    <tr>\n",
       "      <th>2</th>\n",
       "      <td>2249</td>\n",
       "      <td>70</td>\n",
       "      <td>227</td>\n",
       "      <td>230</td>\n",
       "      <td>262</td>\n",
       "      <td>100</td>\n",
       "      <td>45</td>\n",
       "      <td>16</td>\n",
       "      <td>25</td>\n",
       "      <td>72</td>\n",
       "      <td>31</td>\n",
       "      <td>50</td>\n",
       "      <td>69</td>\n",
       "      <td>366</td>\n",
       "      <td>592</td>\n",
       "      <td>86</td>\n",
       "      <td>153</td>\n",
       "    </tr>\n",
       "    <tr>\n",
       "      <th>3</th>\n",
       "      <td>2241</td>\n",
       "      <td>97</td>\n",
       "      <td>53</td>\n",
       "      <td>278</td>\n",
       "      <td>372</td>\n",
       "      <td>231</td>\n",
       "      <td>57</td>\n",
       "      <td>36</td>\n",
       "      <td>47</td>\n",
       "      <td>165</td>\n",
       "      <td>206</td>\n",
       "      <td>113</td>\n",
       "      <td>289</td>\n",
       "      <td>439</td>\n",
       "      <td>881</td>\n",
       "      <td>140</td>\n",
       "      <td>484</td>\n",
       "    </tr>\n",
       "    <tr>\n",
       "      <th>4</th>\n",
       "      <td>2246</td>\n",
       "      <td>3319</td>\n",
       "      <td>599</td>\n",
       "      <td>1623</td>\n",
       "      <td>4549</td>\n",
       "      <td>1730</td>\n",
       "      <td>442</td>\n",
       "      <td>217</td>\n",
       "      <td>587</td>\n",
       "      <td>1059</td>\n",
       "      <td>920</td>\n",
       "      <td>759</td>\n",
       "      <td>2462</td>\n",
       "      <td>6380</td>\n",
       "      <td>7902</td>\n",
       "      <td>1246</td>\n",
       "      <td>2738</td>\n",
       "    </tr>\n",
       "  </tbody>\n",
       "</table>\n",
       "</div>"
      ],
      "text/plain": [
       "   reporting_phu_id    jan   feb    mar    apr    may   jun   jul   aug   sep  \\\n",
       "0              2253  13073  5986  11558  25910  13720  2577  1272  3055  4837   \n",
       "1              2234    298   101    377    762    466    96    51   110   122   \n",
       "2              2249     70   227    230    262    100    45    16    25    72   \n",
       "3              2241     97    53    278    372    231    57    36    47   165   \n",
       "4              2246   3319   599   1623   4549   1730   442   217   587  1059   \n",
       "\n",
       "    oct    nov    dec     Q1     Q2    Q3     Q4  \n",
       "0  6621  13062  14367  33426  51188  6904  24520  \n",
       "1   179    128    350    749   1605   257    429  \n",
       "2    31     50     69    366    592    86    153  \n",
       "3   206    113    289    439    881   140    484  \n",
       "4   920    759   2462   6380   7902  1246   2738  "
      ]
     },
     "execution_count": 55,
     "metadata": {},
     "output_type": "execute_result"
    }
   ],
   "source": [
    "caseDF = case_df\n",
    "caseDF['Q1'] = caseDF[['dec', 'jan', 'feb']].sum(axis = 1)\n",
    "caseDF['Q2'] = caseDF[['mar', 'apr', 'may']].sum(axis = 1)\n",
    "caseDF['Q3'] = caseDF[['jun', 'jul', 'aug']].sum(axis = 1)\n",
    "caseDF['Q4'] = caseDF[['sep', 'oct', 'nov']].sum(axis = 1)\n",
    "caseDF.head()"
   ]
  },
  {
   "cell_type": "code",
   "execution_count": 58,
   "metadata": {},
   "outputs": [
    {
     "name": "stdout",
     "output_type": "stream",
     "text": [
      "(34, 4)\n"
     ]
    },
    {
     "name": "stderr",
     "output_type": "stream",
     "text": [
      "C:\\Users\\User\\anaconda3\\envs\\mlenv\\lib\\site-packages\\pandas\\core\\frame.py:4315: SettingWithCopyWarning: \n",
      "A value is trying to be set on a copy of a slice from a DataFrame\n",
      "\n",
      "See the caveats in the documentation: https://pandas.pydata.org/pandas-docs/stable/user_guide/indexing.html#returning-a-view-versus-a-copy\n",
      "  errors=errors,\n"
     ]
    },
    {
     "data": {
      "text/html": [
       "<div>\n",
       "<style scoped>\n",
       "    .dataframe tbody tr th:only-of-type {\n",
       "        vertical-align: middle;\n",
       "    }\n",
       "\n",
       "    .dataframe tbody tr th {\n",
       "        vertical-align: top;\n",
       "    }\n",
       "\n",
       "    .dataframe thead th {\n",
       "        text-align: right;\n",
       "    }\n",
       "</style>\n",
       "<table border=\"1\" class=\"dataframe\">\n",
       "  <thead>\n",
       "    <tr style=\"text-align: right;\">\n",
       "      <th></th>\n",
       "      <th>Q1</th>\n",
       "      <th>Q2</th>\n",
       "      <th>Q3</th>\n",
       "      <th>Q4</th>\n",
       "    </tr>\n",
       "  </thead>\n",
       "  <tbody>\n",
       "    <tr>\n",
       "      <th>0</th>\n",
       "      <td>33426</td>\n",
       "      <td>51188</td>\n",
       "      <td>6904</td>\n",
       "      <td>24520</td>\n",
       "    </tr>\n",
       "    <tr>\n",
       "      <th>1</th>\n",
       "      <td>749</td>\n",
       "      <td>1605</td>\n",
       "      <td>257</td>\n",
       "      <td>429</td>\n",
       "    </tr>\n",
       "    <tr>\n",
       "      <th>2</th>\n",
       "      <td>366</td>\n",
       "      <td>592</td>\n",
       "      <td>86</td>\n",
       "      <td>153</td>\n",
       "    </tr>\n",
       "    <tr>\n",
       "      <th>3</th>\n",
       "      <td>439</td>\n",
       "      <td>881</td>\n",
       "      <td>140</td>\n",
       "      <td>484</td>\n",
       "    </tr>\n",
       "    <tr>\n",
       "      <th>4</th>\n",
       "      <td>6380</td>\n",
       "      <td>7902</td>\n",
       "      <td>1246</td>\n",
       "      <td>2738</td>\n",
       "    </tr>\n",
       "  </tbody>\n",
       "</table>\n",
       "</div>"
      ],
      "text/plain": [
       "      Q1     Q2    Q3     Q4\n",
       "0  33426  51188  6904  24520\n",
       "1    749   1605   257    429\n",
       "2    366    592    86    153\n",
       "3    439    881   140    484\n",
       "4   6380   7902  1246   2738"
      ]
     },
     "execution_count": 58,
     "metadata": {},
     "output_type": "execute_result"
    }
   ],
   "source": [
    "caseDF_revised = caseDF[['reporting_phu_id', 'Q1', 'Q2', 'Q3', 'Q4']]\n",
    "# caseDF_revised.set_index('reporting_phu_id', inplace=True, drop=True)\n",
    "ids = caseDF_revised['reporting_phu_id']\n",
    "caseDF_revised.drop(columns = ['reporting_phu_id'], inplace = True)\n",
    "print(caseDF_revised.shape)\n",
    "caseDF_revised.head()"
   ]
  },
  {
   "cell_type": "code",
   "execution_count": 59,
   "metadata": {},
   "outputs": [
    {
     "name": "stdout",
     "output_type": "stream",
     "text": [
      "[[ 2.70771863e+00  2.78595443e+00  2.58051932e+00  3.01109492e+00]\n",
      " [-4.33943950e-01 -3.84761700e-01 -5.22557222e-01 -4.28655411e-01]\n",
      " [-4.70766693e-01 -4.49540666e-01 -6.02386632e-01 -4.68063119e-01]\n",
      " [-4.63748259e-01 -4.31059796e-01 -5.77177344e-01 -4.20802426e-01]\n",
      " [ 1.07436899e-01  1.79166257e-02 -6.08537917e-02 -9.89728112e-02]\n",
      " [-4.88649278e-01 -4.73584981e-01 -5.24891415e-01 -4.67206430e-01]\n",
      " [-3.37224161e-01 -3.58671061e-01 -5.13220449e-01 -2.62029342e-01]\n",
      " [ 1.16443229e+00  1.14755179e+00  1.10064078e+00  1.07226425e+00]\n",
      " [-4.69709121e-01 -4.10916288e-01 -6.02853470e-01 -4.50929333e-01]\n",
      " [ 3.59908237e-01 -1.95156930e-01  9.42382478e-01  2.92450211e-02]\n",
      " [-4.72881838e-01 -4.42442477e-01 -2.09775323e-01 -4.33652766e-01]\n",
      " [-4.81246273e-01 -4.39692728e-01 -5.58970637e-01 -4.46217542e-01]\n",
      " [-4.38847240e-01 -4.08614172e-01 -5.07151546e-01 -4.49073173e-01]\n",
      " [-4.25771801e-01 -4.45895650e-01 -4.31990523e-01 -3.70543320e-01]\n",
      " [-4.92687282e-01 -4.73584981e-01 -6.18725985e-01 -4.68919809e-01]\n",
      " [-3.37801018e-01 -3.85145386e-01 -5.22090383e-01 -4.04096985e-01]\n",
      " [-1.89452475e-01 -2.58784838e-01 -2.56926027e-01 -2.56032517e-01]\n",
      " [-3.88660629e-01 -3.58287375e-01 -4.31056845e-01 -3.54837350e-01]\n",
      " [-4.98552000e-01 -4.79468164e-01 -6.40667401e-01 -4.83911871e-01]\n",
      " [-7.79266739e-02 -6.37445181e-02 -1.37030876e-02 -1.93636979e-01]\n",
      " [ 1.61084654e-01 -8.13301207e-02  8.70022486e-01  2.89594580e-02]\n",
      " [ 9.61881755e-02  4.20019423e-01  5.16158786e-01  6.52629271e-01]\n",
      " [-4.58941112e-01 -3.96208329e-01 -5.37962897e-01 -3.82822534e-01]\n",
      " [ 4.57596808e+00  4.53939888e+00  4.21305410e+00  4.40364338e+00]\n",
      " [ 1.79255669e-01  2.01766108e-01  7.48177598e-01  1.31762174e-01]\n",
      " [-3.19726147e-01 -4.03178622e-01 -4.20319556e-01 -3.45128204e-01]\n",
      " [-3.67316899e-01 -3.88726454e-01 -5.86047279e-01 -4.42933566e-01]\n",
      " [-4.61633115e-01 -4.28437943e-01 -5.48233348e-01 -4.44504163e-01]\n",
      " [ 1.67045516e-01  4.28204722e-01  2.46792882e-01  1.15913422e-01]\n",
      " [-4.84034418e-01 -4.09317596e-01 -3.18548729e-01 -4.77629483e-01]\n",
      " [ 2.54269777e-02  5.02741345e-02  1.70258804e-03  7.23650494e-02]\n",
      " [-4.12407934e-01 -4.52674100e-01 -5.07151546e-01 -4.06952616e-01]\n",
      " [-4.87687849e-01 -4.63033619e-01 -6.14057598e-01 -4.60781260e-01]\n",
      " [-8.48489650e-02 -1.08827608e-01 -9.21319816e-02 -9.95439374e-02]]\n"
     ]
    }
   ],
   "source": [
    "case_scaled = StandardScaler().fit_transform(caseDF_revised)\n",
    "print(case_scaled)"
   ]
  },
  {
   "cell_type": "code",
   "execution_count": 60,
   "metadata": {},
   "outputs": [
    {
     "data": {
      "text/plain": [
       "array([[ 5.54388659e+00, -2.03206005e-01,  1.73356892e-01],\n",
       "       [-8.84374183e-01, -1.02725070e-01, -1.11994024e-02],\n",
       "       [-9.94583319e-01, -1.26444139e-01, -2.06957551e-02],\n",
       "       [-9.45615961e-01, -1.28625966e-01,  6.63235122e-03],\n",
       "       [-1.67624750e-02, -3.68642990e-02, -1.52671925e-01],\n",
       "       [-9.76883322e-01, -4.96299001e-02,  5.57141441e-03],\n",
       "       [-7.34445325e-01, -1.66416050e-01,  1.45588004e-02],\n",
       "       [ 2.24256789e+00, -3.40968502e-03, -6.13419113e-02],\n",
       "       [-9.66329855e-01, -1.49004705e-01, -1.01489951e-02],\n",
       "       [ 5.63659445e-01,  8.38121855e-01, -1.19826271e-01],\n",
       "       [-7.80742413e-01,  1.90162396e-01,  6.49168254e-02],\n",
       "       [-9.62492171e-01, -1.00155280e-01,  7.87194175e-03],\n",
       "       [-9.01422139e-01, -7.26393596e-02, -1.78087567e-02],\n",
       "       [-8.36967477e-01, -1.89760695e-02,  2.96789103e-02],\n",
       "       [-1.02615823e+00, -1.27695631e-01, -7.38244391e-03],\n",
       "       [-8.23679954e-01, -1.17856885e-01, -7.20148657e-02],\n",
       "       [-4.80404488e-01, -8.19092888e-03, -5.35150917e-02],\n",
       "       [-7.66068504e-01, -6.41018775e-02,  1.28368453e-02],\n",
       "       [-1.05042422e+00, -1.38422856e-01, -1.54384372e-02],\n",
       "       [-1.75062785e-01,  8.32102143e-02, -5.85391643e-02],\n",
       "       [ 4.84834448e-01,  7.44624698e-01,  2.81788989e-02],\n",
       "       [ 8.41484023e-01,  3.99889324e-02,  4.10252288e-01],\n",
       "       [-8.87291306e-01, -1.23016495e-01,  3.29369107e-02],\n",
       "       [ 8.86753345e+00, -1.80189720e-01, -1.44899238e-01],\n",
       "       [ 6.27184171e-01,  4.85915701e-01,  6.46441753e-02],\n",
       "       [-7.43729283e-01, -4.44217745e-02, -3.52279162e-02],\n",
       "       [-8.91417327e-01, -1.55486931e-01, -8.24054412e-02],\n",
       "       [-9.40825285e-01, -9.81597416e-02, -4.42690757e-03],\n",
       "       [ 4.78709969e-01, -2.78612065e-02, -8.70653853e-03],\n",
       "       [-8.45589026e-01,  9.90333759e-02,  3.09896000e-02],\n",
       "       [ 7.51308392e-02, -4.51097497e-02,  2.50728382e-02],\n",
       "       [-8.89071600e-01, -6.89745650e-02, -1.48551218e-02],\n",
       "       [-1.01196590e+00, -1.31299438e-01, -5.36693280e-03],\n",
       "       [-1.92684274e-01,  7.82715600e-03, -1.10275765e-02]])"
      ]
     },
     "execution_count": 60,
     "metadata": {},
     "output_type": "execute_result"
    }
   ],
   "source": [
    "# PCA\n",
    "pca = PCA(n_components=3, random_state=0)\n",
    "pcs = pca.fit_transform(case_scaled)\n",
    "pcs"
   ]
  },
  {
   "cell_type": "code",
   "execution_count": 61,
   "metadata": {},
   "outputs": [
    {
     "name": "stdout",
     "output_type": "stream",
     "text": [
      "(34, 3)\n"
     ]
    },
    {
     "data": {
      "text/html": [
       "<div>\n",
       "<style scoped>\n",
       "    .dataframe tbody tr th:only-of-type {\n",
       "        vertical-align: middle;\n",
       "    }\n",
       "\n",
       "    .dataframe tbody tr th {\n",
       "        vertical-align: top;\n",
       "    }\n",
       "\n",
       "    .dataframe thead th {\n",
       "        text-align: right;\n",
       "    }\n",
       "</style>\n",
       "<table border=\"1\" class=\"dataframe\">\n",
       "  <thead>\n",
       "    <tr style=\"text-align: right;\">\n",
       "      <th></th>\n",
       "      <th>PC1</th>\n",
       "      <th>PC2</th>\n",
       "      <th>PC3</th>\n",
       "    </tr>\n",
       "  </thead>\n",
       "  <tbody>\n",
       "    <tr>\n",
       "      <th>0</th>\n",
       "      <td>5.543887</td>\n",
       "      <td>-0.203206</td>\n",
       "      <td>0.173357</td>\n",
       "    </tr>\n",
       "    <tr>\n",
       "      <th>1</th>\n",
       "      <td>-0.884374</td>\n",
       "      <td>-0.102725</td>\n",
       "      <td>-0.011199</td>\n",
       "    </tr>\n",
       "    <tr>\n",
       "      <th>2</th>\n",
       "      <td>-0.994583</td>\n",
       "      <td>-0.126444</td>\n",
       "      <td>-0.020696</td>\n",
       "    </tr>\n",
       "    <tr>\n",
       "      <th>3</th>\n",
       "      <td>-0.945616</td>\n",
       "      <td>-0.128626</td>\n",
       "      <td>0.006632</td>\n",
       "    </tr>\n",
       "    <tr>\n",
       "      <th>4</th>\n",
       "      <td>-0.016762</td>\n",
       "      <td>-0.036864</td>\n",
       "      <td>-0.152672</td>\n",
       "    </tr>\n",
       "  </tbody>\n",
       "</table>\n",
       "</div>"
      ],
      "text/plain": [
       "        PC1       PC2       PC3\n",
       "0  5.543887 -0.203206  0.173357\n",
       "1 -0.884374 -0.102725 -0.011199\n",
       "2 -0.994583 -0.126444 -0.020696\n",
       "3 -0.945616 -0.128626  0.006632\n",
       "4 -0.016762 -0.036864 -0.152672"
      ]
     },
     "execution_count": 61,
     "metadata": {},
     "output_type": "execute_result"
    }
   ],
   "source": [
    "pcs_df = pd.DataFrame(\n",
    "    data = pcs,\n",
    "    columns = ['PC1', 'PC2', 'PC3'],\n",
    "    index = case_df.index\n",
    ")\n",
    "print(pcs_df.shape)\n",
    "pcs_df.head()"
   ]
  },
  {
   "cell_type": "code",
   "execution_count": 62,
   "metadata": {},
   "outputs": [
    {
     "name": "stdout",
     "output_type": "stream",
     "text": [
      "Sum of Variances: 0.9989460714473021, Length: 3\n"
     ]
    }
   ],
   "source": [
    "cVariance = pca.explained_variance_ratio_\n",
    "print(f\"Sum of Variances: {sum(cVariance)}, Length: {len(cVariance)}\")"
   ]
  },
  {
   "cell_type": "code",
   "execution_count": 63,
   "metadata": {},
   "outputs": [],
   "source": [
    "mergings = linkage(case_scaled, method = 'ward')"
   ]
  },
  {
   "cell_type": "code",
   "execution_count": 64,
   "metadata": {},
   "outputs": [
    {
     "data": {
      "image/png": "[encoded data removed]",
      "text/plain": [
       "<Figure size 864x576 with 1 Axes>"
      ]
     },
     "metadata": {
      "needs_background": "light"
     },
     "output_type": "display_data"
    }
   ],
   "source": [
    "# Generate a dendrogram\n",
    "plt.figure(figsize=(12,8))\n",
    "\n",
    "dendrogram(mergings,\n",
    "          leaf_rotation=90,\n",
    "          leaf_font_size=5)\n",
    "\n",
    "plt.show()"
   ]
  },
  {
   "cell_type": "code",
   "execution_count": 65,
   "metadata": {},
   "outputs": [],
   "source": [
    "# Generate cluster labels with sklearn.cluster's AgglomerativeClustering\n",
    "cluster = AgglomerativeClustering(n_clusters=3,\n",
    "                                 affinity='euclidean',\n",
    "                                 linkage='ward')\n",
    "labels = cluster.fit_predict(case_scaled)"
   ]
  },
  {
   "cell_type": "code",
   "execution_count": 71,
   "metadata": {},
   "outputs": [
    {
     "data": {
      "text/html": [
       "<div>\n",
       "<style scoped>\n",
       "    .dataframe tbody tr th:only-of-type {\n",
       "        vertical-align: middle;\n",
       "    }\n",
       "\n",
       "    .dataframe tbody tr th {\n",
       "        vertical-align: top;\n",
       "    }\n",
       "\n",
       "    .dataframe thead th {\n",
       "        text-align: right;\n",
       "    }\n",
       "</style>\n",
       "<table border=\"1\" class=\"dataframe\">\n",
       "  <thead>\n",
       "    <tr style=\"text-align: right;\">\n",
       "      <th></th>\n",
       "      <th>Q1</th>\n",
       "      <th>Q2</th>\n",
       "      <th>Q3</th>\n",
       "      <th>Q4</th>\n",
       "      <th>PC1</th>\n",
       "      <th>PC2</th>\n",
       "      <th>PC3</th>\n",
       "      <th>Class</th>\n",
       "      <th>reporting_phu</th>\n",
       "      <th>reporting_phu_city</th>\n",
       "    </tr>\n",
       "    <tr>\n",
       "      <th>reporting_phu_id</th>\n",
       "      <th></th>\n",
       "      <th></th>\n",
       "      <th></th>\n",
       "      <th></th>\n",
       "      <th></th>\n",
       "      <th></th>\n",
       "      <th></th>\n",
       "      <th></th>\n",
       "      <th></th>\n",
       "      <th></th>\n",
       "    </tr>\n",
       "  </thead>\n",
       "  <tbody>\n",
       "    <tr>\n",
       "      <th>2253</th>\n",
       "      <td>33426</td>\n",
       "      <td>51188</td>\n",
       "      <td>6904</td>\n",
       "      <td>24520</td>\n",
       "      <td>5.543887</td>\n",
       "      <td>-0.203206</td>\n",
       "      <td>0.173357</td>\n",
       "      <td>0</td>\n",
       "      <td>Peel Public Health</td>\n",
       "      <td>Mississauga</td>\n",
       "    </tr>\n",
       "    <tr>\n",
       "      <th>2234</th>\n",
       "      <td>749</td>\n",
       "      <td>1605</td>\n",
       "      <td>257</td>\n",
       "      <td>429</td>\n",
       "      <td>-0.884374</td>\n",
       "      <td>-0.102725</td>\n",
       "      <td>-0.011199</td>\n",
       "      <td>2</td>\n",
       "      <td>Haldimand-Norfolk Health Unit</td>\n",
       "      <td>Simcoe</td>\n",
       "    </tr>\n",
       "    <tr>\n",
       "      <th>2249</th>\n",
       "      <td>366</td>\n",
       "      <td>592</td>\n",
       "      <td>86</td>\n",
       "      <td>153</td>\n",
       "      <td>-0.994583</td>\n",
       "      <td>-0.126444</td>\n",
       "      <td>-0.020696</td>\n",
       "      <td>2</td>\n",
       "      <td>Northwestern Health Unit</td>\n",
       "      <td>Kenora</td>\n",
       "    </tr>\n",
       "    <tr>\n",
       "      <th>2241</th>\n",
       "      <td>439</td>\n",
       "      <td>881</td>\n",
       "      <td>140</td>\n",
       "      <td>484</td>\n",
       "      <td>-0.945616</td>\n",
       "      <td>-0.128626</td>\n",
       "      <td>0.006632</td>\n",
       "      <td>2</td>\n",
       "      <td>Kingston, Frontenac and Lennox &amp; Addington Pub...</td>\n",
       "      <td>Kingston</td>\n",
       "    </tr>\n",
       "    <tr>\n",
       "      <th>2246</th>\n",
       "      <td>6380</td>\n",
       "      <td>7902</td>\n",
       "      <td>1246</td>\n",
       "      <td>2738</td>\n",
       "      <td>-0.016762</td>\n",
       "      <td>-0.036864</td>\n",
       "      <td>-0.152672</td>\n",
       "      <td>1</td>\n",
       "      <td>Niagara Region Public Health Department</td>\n",
       "      <td>Thorold</td>\n",
       "    </tr>\n",
       "    <tr>\n",
       "      <th>2247</th>\n",
       "      <td>180</td>\n",
       "      <td>216</td>\n",
       "      <td>252</td>\n",
       "      <td>159</td>\n",
       "      <td>-0.976883</td>\n",
       "      <td>-0.049630</td>\n",
       "      <td>0.005571</td>\n",
       "      <td>2</td>\n",
       "      <td>North Bay Parry Sound District Health Unit</td>\n",
       "      <td>North Bay</td>\n",
       "    </tr>\n",
       "    <tr>\n",
       "      <th>2258</th>\n",
       "      <td>1755</td>\n",
       "      <td>2013</td>\n",
       "      <td>277</td>\n",
       "      <td>1596</td>\n",
       "      <td>-0.734445</td>\n",
       "      <td>-0.166416</td>\n",
       "      <td>0.014559</td>\n",
       "      <td>2</td>\n",
       "      <td>Eastern Ontario Health Unit</td>\n",
       "      <td>Cornwall</td>\n",
       "    </tr>\n",
       "    <tr>\n",
       "      <th>2270</th>\n",
       "      <td>17374</td>\n",
       "      <td>25567</td>\n",
       "      <td>3734</td>\n",
       "      <td>10941</td>\n",
       "      <td>2.242568</td>\n",
       "      <td>-0.003410</td>\n",
       "      <td>-0.061342</td>\n",
       "      <td>1</td>\n",
       "      <td>York Region Public Health Services</td>\n",
       "      <td>Newmarket</td>\n",
       "    </tr>\n",
       "    <tr>\n",
       "      <th>2243</th>\n",
       "      <td>377</td>\n",
       "      <td>1196</td>\n",
       "      <td>85</td>\n",
       "      <td>273</td>\n",
       "      <td>-0.966330</td>\n",
       "      <td>-0.149005</td>\n",
       "      <td>-0.010149</td>\n",
       "      <td>2</td>\n",
       "      <td>Leeds, Grenville and Lanark District Health Unit</td>\n",
       "      <td>Brockville</td>\n",
       "    </tr>\n",
       "    <tr>\n",
       "      <th>2268</th>\n",
       "      <td>9006</td>\n",
       "      <td>4570</td>\n",
       "      <td>3395</td>\n",
       "      <td>3636</td>\n",
       "      <td>0.563659</td>\n",
       "      <td>0.838122</td>\n",
       "      <td>-0.119826</td>\n",
       "      <td>1</td>\n",
       "      <td>Windsor-Essex County Health Unit</td>\n",
       "      <td>Windsor</td>\n",
       "    </tr>\n",
       "    <tr>\n",
       "      <th>2233</th>\n",
       "      <td>344</td>\n",
       "      <td>703</td>\n",
       "      <td>927</td>\n",
       "      <td>394</td>\n",
       "      <td>-0.780742</td>\n",
       "      <td>0.190162</td>\n",
       "      <td>0.064917</td>\n",
       "      <td>2</td>\n",
       "      <td>Grey Bruce Health Unit</td>\n",
       "      <td>Owen Sound</td>\n",
       "    </tr>\n",
       "    <tr>\n",
       "      <th>2238</th>\n",
       "      <td>257</td>\n",
       "      <td>746</td>\n",
       "      <td>179</td>\n",
       "      <td>306</td>\n",
       "      <td>-0.962492</td>\n",
       "      <td>-0.100155</td>\n",
       "      <td>0.007872</td>\n",
       "      <td>2</td>\n",
       "      <td>Hastings and Prince Edward Counties Health Unit</td>\n",
       "      <td>Belleville</td>\n",
       "    </tr>\n",
       "    <tr>\n",
       "      <th>2235</th>\n",
       "      <td>698</td>\n",
       "      <td>1232</td>\n",
       "      <td>290</td>\n",
       "      <td>286</td>\n",
       "      <td>-0.901422</td>\n",
       "      <td>-0.072639</td>\n",
       "      <td>-0.017809</td>\n",
       "      <td>2</td>\n",
       "      <td>Haliburton, Kawartha, Pine Ridge District Heal...</td>\n",
       "      <td>Port Hope</td>\n",
       "    </tr>\n",
       "    <tr>\n",
       "      <th>2240</th>\n",
       "      <td>834</td>\n",
       "      <td>649</td>\n",
       "      <td>451</td>\n",
       "      <td>836</td>\n",
       "      <td>-0.836967</td>\n",
       "      <td>-0.018976</td>\n",
       "      <td>0.029679</td>\n",
       "      <td>2</td>\n",
       "      <td>Chatham-Kent Health Unit</td>\n",
       "      <td>Chatham</td>\n",
       "    </tr>\n",
       "    <tr>\n",
       "      <th>2226</th>\n",
       "      <td>138</td>\n",
       "      <td>216</td>\n",
       "      <td>51</td>\n",
       "      <td>147</td>\n",
       "      <td>-1.026158</td>\n",
       "      <td>-0.127696</td>\n",
       "      <td>-0.007382</td>\n",
       "      <td>2</td>\n",
       "      <td>Algoma Public Health Unit</td>\n",
       "      <td>Sault Ste. Marie</td>\n",
       "    </tr>\n",
       "    <tr>\n",
       "      <th>2242</th>\n",
       "      <td>1749</td>\n",
       "      <td>1599</td>\n",
       "      <td>258</td>\n",
       "      <td>601</td>\n",
       "      <td>-0.823680</td>\n",
       "      <td>-0.117857</td>\n",
       "      <td>-0.072015</td>\n",
       "      <td>2</td>\n",
       "      <td>Lambton Public Health</td>\n",
       "      <td>Point Edward</td>\n",
       "    </tr>\n",
       "    <tr>\n",
       "      <th>2266</th>\n",
       "      <td>3292</td>\n",
       "      <td>3575</td>\n",
       "      <td>826</td>\n",
       "      <td>1638</td>\n",
       "      <td>-0.480404</td>\n",
       "      <td>-0.008191</td>\n",
       "      <td>-0.053515</td>\n",
       "      <td>2</td>\n",
       "      <td>Wellington-Dufferin-Guelph Public Health</td>\n",
       "      <td>Guelph</td>\n",
       "    </tr>\n",
       "    <tr>\n",
       "      <th>2227</th>\n",
       "      <td>1220</td>\n",
       "      <td>2019</td>\n",
       "      <td>453</td>\n",
       "      <td>946</td>\n",
       "      <td>-0.766069</td>\n",
       "      <td>-0.064102</td>\n",
       "      <td>0.012837</td>\n",
       "      <td>2</td>\n",
       "      <td>Brant County Health Unit</td>\n",
       "      <td>Brantford</td>\n",
       "    </tr>\n",
       "    <tr>\n",
       "      <th>2263</th>\n",
       "      <td>77</td>\n",
       "      <td>124</td>\n",
       "      <td>4</td>\n",
       "      <td>42</td>\n",
       "      <td>-1.050424</td>\n",
       "      <td>-0.138423</td>\n",
       "      <td>-0.015438</td>\n",
       "      <td>2</td>\n",
       "      <td>Timiskaming Health Unit</td>\n",
       "      <td>New Liskeard</td>\n",
       "    </tr>\n",
       "    <tr>\n",
       "      <th>2244</th>\n",
       "      <td>4452</td>\n",
       "      <td>6625</td>\n",
       "      <td>1347</td>\n",
       "      <td>2075</td>\n",
       "      <td>-0.175063</td>\n",
       "      <td>0.083210</td>\n",
       "      <td>-0.058539</td>\n",
       "      <td>1</td>\n",
       "      <td>Middlesex-London Health Unit</td>\n",
       "      <td>London</td>\n",
       "    </tr>\n",
       "    <tr>\n",
       "      <th>2265</th>\n",
       "      <td>6938</td>\n",
       "      <td>6350</td>\n",
       "      <td>3240</td>\n",
       "      <td>3634</td>\n",
       "      <td>0.484834</td>\n",
       "      <td>0.744625</td>\n",
       "      <td>0.028179</td>\n",
       "      <td>1</td>\n",
       "      <td>Region of Waterloo, Public Health</td>\n",
       "      <td>Waterloo</td>\n",
       "    </tr>\n",
       "    <tr>\n",
       "      <th>2251</th>\n",
       "      <td>6263</td>\n",
       "      <td>14190</td>\n",
       "      <td>2482</td>\n",
       "      <td>8002</td>\n",
       "      <td>0.841484</td>\n",
       "      <td>0.039989</td>\n",
       "      <td>0.410252</td>\n",
       "      <td>1</td>\n",
       "      <td>Ottawa Public Health</td>\n",
       "      <td>Ottawa</td>\n",
       "    </tr>\n",
       "    <tr>\n",
       "      <th>2261</th>\n",
       "      <td>489</td>\n",
       "      <td>1426</td>\n",
       "      <td>224</td>\n",
       "      <td>750</td>\n",
       "      <td>-0.887291</td>\n",
       "      <td>-0.123016</td>\n",
       "      <td>0.032937</td>\n",
       "      <td>2</td>\n",
       "      <td>Sudbury &amp; District Health Unit</td>\n",
       "      <td>Sudbury</td>\n",
       "    </tr>\n",
       "    <tr>\n",
       "      <th>3895</th>\n",
       "      <td>52858</td>\n",
       "      <td>78608</td>\n",
       "      <td>10401</td>\n",
       "      <td>34273</td>\n",
       "      <td>8.867533</td>\n",
       "      <td>-0.180190</td>\n",
       "      <td>-0.144899</td>\n",
       "      <td>0</td>\n",
       "      <td>Toronto Public Health</td>\n",
       "      <td>Toronto</td>\n",
       "    </tr>\n",
       "    <tr>\n",
       "      <th>2237</th>\n",
       "      <td>7127</td>\n",
       "      <td>10777</td>\n",
       "      <td>2979</td>\n",
       "      <td>4354</td>\n",
       "      <td>0.627184</td>\n",
       "      <td>0.485916</td>\n",
       "      <td>0.064644</td>\n",
       "      <td>1</td>\n",
       "      <td>Hamilton Public Health Services</td>\n",
       "      <td>Hamilton</td>\n",
       "    </tr>\n",
       "    <tr>\n",
       "      <th>4913</th>\n",
       "      <td>1937</td>\n",
       "      <td>1317</td>\n",
       "      <td>476</td>\n",
       "      <td>1014</td>\n",
       "      <td>-0.743729</td>\n",
       "      <td>-0.044422</td>\n",
       "      <td>-0.035228</td>\n",
       "      <td>2</td>\n",
       "      <td>Southwestern Public Health</td>\n",
       "      <td>St. Thomas</td>\n",
       "    </tr>\n",
       "    <tr>\n",
       "      <th>2262</th>\n",
       "      <td>1442</td>\n",
       "      <td>1543</td>\n",
       "      <td>121</td>\n",
       "      <td>329</td>\n",
       "      <td>-0.891417</td>\n",
       "      <td>-0.155487</td>\n",
       "      <td>-0.082405</td>\n",
       "      <td>2</td>\n",
       "      <td>Thunder Bay District Health Unit</td>\n",
       "      <td>Thunder Bay</td>\n",
       "    </tr>\n",
       "    <tr>\n",
       "      <th>2255</th>\n",
       "      <td>461</td>\n",
       "      <td>922</td>\n",
       "      <td>202</td>\n",
       "      <td>318</td>\n",
       "      <td>-0.940825</td>\n",
       "      <td>-0.098160</td>\n",
       "      <td>-0.004427</td>\n",
       "      <td>2</td>\n",
       "      <td>Peterborough Public Health</td>\n",
       "      <td>Peterborough</td>\n",
       "    </tr>\n",
       "    <tr>\n",
       "      <th>2230</th>\n",
       "      <td>7000</td>\n",
       "      <td>14318</td>\n",
       "      <td>1905</td>\n",
       "      <td>4243</td>\n",
       "      <td>0.478710</td>\n",
       "      <td>-0.027861</td>\n",
       "      <td>-0.008707</td>\n",
       "      <td>1</td>\n",
       "      <td>Durham Region Health Department</td>\n",
       "      <td>Whitby</td>\n",
       "    </tr>\n",
       "    <tr>\n",
       "      <th>2256</th>\n",
       "      <td>228</td>\n",
       "      <td>1221</td>\n",
       "      <td>694</td>\n",
       "      <td>86</td>\n",
       "      <td>-0.845589</td>\n",
       "      <td>0.099033</td>\n",
       "      <td>0.030990</td>\n",
       "      <td>2</td>\n",
       "      <td>Porcupine Health Unit</td>\n",
       "      <td>Timmins</td>\n",
       "    </tr>\n",
       "    <tr>\n",
       "      <th>2236</th>\n",
       "      <td>5527</td>\n",
       "      <td>8408</td>\n",
       "      <td>1380</td>\n",
       "      <td>3938</td>\n",
       "      <td>0.075131</td>\n",
       "      <td>-0.045110</td>\n",
       "      <td>0.025073</td>\n",
       "      <td>1</td>\n",
       "      <td>Halton Region Health Department</td>\n",
       "      <td>Oakville</td>\n",
       "    </tr>\n",
       "    <tr>\n",
       "      <th>5183</th>\n",
       "      <td>973</td>\n",
       "      <td>543</td>\n",
       "      <td>290</td>\n",
       "      <td>581</td>\n",
       "      <td>-0.889072</td>\n",
       "      <td>-0.068975</td>\n",
       "      <td>-0.014855</td>\n",
       "      <td>2</td>\n",
       "      <td>Huron Perth District Health Unit</td>\n",
       "      <td>Stratford</td>\n",
       "    </tr>\n",
       "    <tr>\n",
       "      <th>2257</th>\n",
       "      <td>190</td>\n",
       "      <td>381</td>\n",
       "      <td>61</td>\n",
       "      <td>204</td>\n",
       "      <td>-1.011966</td>\n",
       "      <td>-0.131299</td>\n",
       "      <td>-0.005367</td>\n",
       "      <td>2</td>\n",
       "      <td>Renfrew County and District Health Unit</td>\n",
       "      <td>Pembroke</td>\n",
       "    </tr>\n",
       "    <tr>\n",
       "      <th>2260</th>\n",
       "      <td>4380</td>\n",
       "      <td>5920</td>\n",
       "      <td>1179</td>\n",
       "      <td>2734</td>\n",
       "      <td>-0.192684</td>\n",
       "      <td>0.007827</td>\n",
       "      <td>-0.011028</td>\n",
       "      <td>1</td>\n",
       "      <td>Simcoe Muskoka District Health Unit</td>\n",
       "      <td>Barrie</td>\n",
       "    </tr>\n",
       "  </tbody>\n",
       "</table>\n",
       "</div>"
      ],
      "text/plain": [
       "                     Q1     Q2     Q3     Q4       PC1       PC2       PC3  \\\n",
       "reporting_phu_id                                                             \n",
       "2253              33426  51188   6904  24520  5.543887 -0.203206  0.173357   \n",
       "2234                749   1605    257    429 -0.884374 -0.102725 -0.011199   \n",
       "2249                366    592     86    153 -0.994583 -0.126444 -0.020696   \n",
       "2241                439    881    140    484 -0.945616 -0.128626  0.006632   \n",
       "2246               6380   7902   1246   2738 -0.016762 -0.036864 -0.152672   \n",
       "2247                180    216    252    159 -0.976883 -0.049630  0.005571   \n",
       "2258               1755   2013    277   1596 -0.734445 -0.166416  0.014559   \n",
       "2270              17374  25567   3734  10941  2.242568 -0.003410 -0.061342   \n",
       "2243                377   1196     85    273 -0.966330 -0.149005 -0.010149   \n",
       "2268               9006   4570   3395   3636  0.563659  0.838122 -0.119826   \n",
       "2233                344    703    927    394 -0.780742  0.190162  0.064917   \n",
       "2238                257    746    179    306 -0.962492 -0.100155  0.007872   \n",
       "2235                698   1232    290    286 -0.901422 -0.072639 -0.017809   \n",
       "2240                834    649    451    836 -0.836967 -0.018976  0.029679   \n",
       "2226                138    216     51    147 -1.026158 -0.127696 -0.007382   \n",
       "2242               1749   1599    258    601 -0.823680 -0.117857 -0.072015   \n",
       "2266               3292   3575    826   1638 -0.480404 -0.008191 -0.053515   \n",
       "2227               1220   2019    453    946 -0.766069 -0.064102  0.012837   \n",
       "2263                 77    124      4     42 -1.050424 -0.138423 -0.015438   \n",
       "2244               4452   6625   1347   2075 -0.175063  0.083210 -0.058539   \n",
       "2265               6938   6350   3240   3634  0.484834  0.744625  0.028179   \n",
       "2251               6263  14190   2482   8002  0.841484  0.039989  0.410252   \n",
       "2261                489   1426    224    750 -0.887291 -0.123016  0.032937   \n",
       "3895              52858  78608  10401  34273  8.867533 -0.180190 -0.144899   \n",
       "2237               7127  10777   2979   4354  0.627184  0.485916  0.064644   \n",
       "4913               1937   1317    476   1014 -0.743729 -0.044422 -0.035228   \n",
       "2262               1442   1543    121    329 -0.891417 -0.155487 -0.082405   \n",
       "2255                461    922    202    318 -0.940825 -0.098160 -0.004427   \n",
       "2230               7000  14318   1905   4243  0.478710 -0.027861 -0.008707   \n",
       "2256                228   1221    694     86 -0.845589  0.099033  0.030990   \n",
       "2236               5527   8408   1380   3938  0.075131 -0.045110  0.025073   \n",
       "5183                973    543    290    581 -0.889072 -0.068975 -0.014855   \n",
       "2257                190    381     61    204 -1.011966 -0.131299 -0.005367   \n",
       "2260               4380   5920   1179   2734 -0.192684  0.007827 -0.011028   \n",
       "\n",
       "                  Class                                      reporting_phu  \\\n",
       "reporting_phu_id                                                             \n",
       "2253                  0                                 Peel Public Health   \n",
       "2234                  2                      Haldimand-Norfolk Health Unit   \n",
       "2249                  2                           Northwestern Health Unit   \n",
       "2241                  2  Kingston, Frontenac and Lennox & Addington Pub...   \n",
       "2246                  1            Niagara Region Public Health Department   \n",
       "2247                  2         North Bay Parry Sound District Health Unit   \n",
       "2258                  2                        Eastern Ontario Health Unit   \n",
       "2270                  1                 York Region Public Health Services   \n",
       "2243                  2   Leeds, Grenville and Lanark District Health Unit   \n",
       "2268                  1                   Windsor-Essex County Health Unit   \n",
       "2233                  2                             Grey Bruce Health Unit   \n",
       "2238                  2    Hastings and Prince Edward Counties Health Unit   \n",
       "2235                  2  Haliburton, Kawartha, Pine Ridge District Heal...   \n",
       "2240                  2                           Chatham-Kent Health Unit   \n",
       "2226                  2                          Algoma Public Health Unit   \n",
       "2242                  2                              Lambton Public Health   \n",
       "2266                  2           Wellington-Dufferin-Guelph Public Health   \n",
       "2227                  2                           Brant County Health Unit   \n",
       "2263                  2                            Timiskaming Health Unit   \n",
       "2244                  1                       Middlesex-London Health Unit   \n",
       "2265                  1                  Region of Waterloo, Public Health   \n",
       "2251                  1                               Ottawa Public Health   \n",
       "2261                  2                     Sudbury & District Health Unit   \n",
       "3895                  0                              Toronto Public Health   \n",
       "2237                  1                    Hamilton Public Health Services   \n",
       "4913                  2                         Southwestern Public Health   \n",
       "2262                  2                   Thunder Bay District Health Unit   \n",
       "2255                  2                         Peterborough Public Health   \n",
       "2230                  1                    Durham Region Health Department   \n",
       "2256                  2                              Porcupine Health Unit   \n",
       "2236                  1                    Halton Region Health Department   \n",
       "5183                  2                   Huron Perth District Health Unit   \n",
       "2257                  2            Renfrew County and District Health Unit   \n",
       "2260                  1                Simcoe Muskoka District Health Unit   \n",
       "\n",
       "                 reporting_phu_city  \n",
       "reporting_phu_id                     \n",
       "2253                    Mississauga  \n",
       "2234                         Simcoe  \n",
       "2249                         Kenora  \n",
       "2241                       Kingston  \n",
       "2246                        Thorold  \n",
       "2247                      North Bay  \n",
       "2258                       Cornwall  \n",
       "2270                      Newmarket  \n",
       "2243                     Brockville  \n",
       "2268                        Windsor  \n",
       "2233                     Owen Sound  \n",
       "2238                     Belleville  \n",
       "2235                      Port Hope  \n",
       "2240                        Chatham  \n",
       "2226               Sault Ste. Marie  \n",
       "2242                   Point Edward  \n",
       "2266                         Guelph  \n",
       "2227                      Brantford  \n",
       "2263                   New Liskeard  \n",
       "2244                         London  \n",
       "2265                       Waterloo  \n",
       "2251                         Ottawa  \n",
       "2261                        Sudbury  \n",
       "3895                        Toronto  \n",
       "2237                       Hamilton  \n",
       "4913                     St. Thomas  \n",
       "2262                    Thunder Bay  \n",
       "2255                   Peterborough  \n",
       "2230                         Whitby  \n",
       "2256                        Timmins  \n",
       "2236                       Oakville  \n",
       "5183                      Stratford  \n",
       "2257                       Pembroke  \n",
       "2260                         Barrie  "
      ]
     },
     "execution_count": 71,
     "metadata": {},
     "output_type": "execute_result"
    }
   ],
   "source": [
    "clustered_df = pd.concat([caseDF_revised, pcs_df], axis=1)\n",
    "clustered_df['Class'] = labels\n",
    "clustered_df['reporting_phu_id'] = ids\n",
    "clustered_df['reporting_phu'] = covid_df['reporting_phu']\n",
    "clustered_df['reporting_phu_city'] = covid_df['reporting_phu_city']\n",
    "clustered_df.set_index('reporting_phu_id', inplace=True, drop=True)\n",
    "clustered_df"
   ]
  },
  {
   "cell_type": "code",
   "execution_count": 74,
   "metadata": {},
   "outputs": [
    {
     "data": {
      "application/vnd.plotly.v1+json": {
       "config": {
        "plotlyServerURL": "https://plot.ly"
       },
       "data": [
        {
         "customdata": [
          [
           "Mississauga"
          ],
          [
           "Toronto"
          ]
         ],
         "hovertemplate": "<b>%{hovertext}</b><br><br>Class=%{marker.color}<br>PC1=%{x}<br>PC2=%{y}<br>PC3=%{z}<br>reporting_phu_city=%{customdata[0]}<extra></extra>",
         "hovertext": [
          "Peel Public Health",
          "Toronto Public Health"
         ],
         "legendgroup": "0",
         "marker": {
          "color": [
           0,
           0
          ],
          "coloraxis": "coloraxis",
          "symbol": "circle"
         },
         "mode": "markers",
         "name": "0",
         "scene": "scene",
         "showlegend": true,
         "type": "scatter3d",
         "x": [
          5.5438865881448525,
          8.867533447303448
         ],
         "y": [
          -0.2032060052903934,
          -0.18018971991229618
         ],
         "z": [
          0.17335689249148042,
          -0.14489923811802696
         ]
        },
        {
         "customdata": [
          [
           "Simcoe"
          ],
          [
           "Kenora"
          ],
          [
           "Kingston"
          ],
          [
           "North Bay"
          ],
          [
           "Cornwall"
          ],
          [
           "Brockville"
          ],
          [
           "Owen Sound"
          ],
          [
           "Belleville"
          ],
          [
           "Port Hope"
          ],
          [
           "Chatham"
          ],
          [
           "Sault Ste. Marie"
          ],
          [
           "Point Edward"
          ],
          [
           "Guelph"
          ],
          [
           "Brantford"
          ],
          [
           "New Liskeard"
          ],
          [
           "Sudbury"
          ],
          [
           "St. Thomas"
          ],
          [
           "Thunder Bay"
          ],
          [
           "Peterborough"
          ],
          [
           "Timmins"
          ],
          [
           "Stratford"
          ],
          [
           "Pembroke"
          ]
         ],
         "hovertemplate": "<b>%{hovertext}</b><br><br>Class=%{marker.color}<br>PC1=%{x}<br>PC2=%{y}<br>PC3=%{z}<br>reporting_phu_city=%{customdata[0]}<extra></extra>",
         "hovertext": [
          "Haldimand-Norfolk Health Unit",
          "Northwestern Health Unit",
          "Kingston, Frontenac and Lennox & Addington Public Health",
          "North Bay Parry Sound District Health Unit",
          "Eastern Ontario Health Unit",
          "Leeds, Grenville and Lanark District Health Unit",
          "Grey Bruce Health Unit",
          "Hastings and Prince Edward Counties Health Unit",
          "Haliburton, Kawartha, Pine Ridge District Health Unit",
          "Chatham-Kent Health Unit",
          "Algoma Public Health Unit",
          "Lambton Public Health",
          "Wellington-Dufferin-Guelph Public Health",
          "Brant County Health Unit",
          "Timiskaming Health Unit",
          "Sudbury & District Health Unit",
          "Southwestern Public Health",
          "Thunder Bay District Health Unit",
          "Peterborough Public Health",
          "Porcupine Health Unit",
          "Huron Perth District Health Unit",
          "Renfrew County and District Health Unit"
         ],
         "legendgroup": "2",
         "marker": {
          "color": [
           2,
           2,
           2,
           2,
           2,
           2,
           2,
           2,
           2,
           2,
           2,
           2,
           2,
           2,
           2,
           2,
           2,
           2,
           2,
           2,
           2,
           2
          ],
          "coloraxis": "coloraxis",
          "symbol": "diamond"
         },
         "mode": "markers",
         "name": "2",
         "scene": "scene",
         "showlegend": true,
         "type": "scatter3d",
         "x": [
          -0.8843741827990641,
          -0.9945833185418463,
          -0.9456159611751711,
          -0.9768833220167746,
          -0.7344453247176199,
          -0.9663298547386624,
          -0.7807424128680363,
          -0.9624921708575035,
          -0.9014221388532317,
          -0.8369674765235059,
          -1.0261582287545903,
          -0.8236799538805976,
          -0.48040448794977625,
          -0.7660685037238802,
          -1.0504242228423883,
          -0.8872913060036973,
          -0.7437292825844168,
          -0.8914173265644633,
          -0.9408252847532493,
          -0.8455890256936233,
          -0.8890715996622577,
          -1.0119659028687782
         ],
         "y": [
          -0.1027250701368817,
          -0.1264441390685245,
          -0.12862596561400572,
          -0.04962990013574325,
          -0.16641604951870942,
          -0.14900470533081156,
          0.19016239583096486,
          -0.10015528004904894,
          -0.0726393596381882,
          -0.018976069530760177,
          -0.12769563127924438,
          -0.11785688503837816,
          -0.008190928875524962,
          -0.06410187751414796,
          -0.1384228562163591,
          -0.12301649522735385,
          -0.044421774509646704,
          -0.15548693098046948,
          -0.09815974161609918,
          0.09903337594250496,
          -0.06897456496844034,
          -0.1312994380842897
         ],
         "z": [
          -0.011199402370135643,
          -0.020695755062931042,
          0.0066323512184966234,
          0.005571414407167992,
          0.014558800373715954,
          -0.010148995077076532,
          0.06491682541733282,
          0.007871941753320833,
          -0.017808756737512393,
          0.02967891027466011,
          -0.007382443907329052,
          -0.07201486568883365,
          -0.05351509171882619,
          0.012836845268203237,
          -0.015438437171744495,
          0.03293691069414746,
          -0.035227916176951646,
          -0.08240544124963159,
          -0.004426907569460862,
          0.030989600029904214,
          -0.014855121833260232,
          -0.005366932803684846
         ]
        },
        {
         "customdata": [
          [
           "Thorold"
          ],
          [
           "Newmarket"
          ],
          [
           "Windsor"
          ],
          [
           "London"
          ],
          [
           "Waterloo"
          ],
          [
           "Ottawa"
          ],
          [
           "Hamilton"
          ],
          [
           "Whitby"
          ],
          [
           "Oakville"
          ],
          [
           "Barrie"
          ]
         ],
         "hovertemplate": "<b>%{hovertext}</b><br><br>Class=%{marker.color}<br>PC1=%{x}<br>PC2=%{y}<br>PC3=%{z}<br>reporting_phu_city=%{customdata[0]}<extra></extra>",
         "hovertext": [
          "Niagara Region Public Health Department",
          "York Region Public Health Services",
          "Windsor-Essex County Health Unit",
          "Middlesex-London Health Unit",
          "Region of Waterloo, Public Health",
          "Ottawa Public Health",
          "Hamilton Public Health Services",
          "Durham Region Health Department",
          "Halton Region Health Department",
          "Simcoe Muskoka District Health Unit"
         ],
         "legendgroup": "1",
         "marker": {
          "color": [
           1,
           1,
           1,
           1,
           1,
           1,
           1,
           1,
           1,
           1
          ],
          "coloraxis": "coloraxis",
          "symbol": "square"
         },
         "mode": "markers",
         "name": "1",
         "scene": "scene",
         "showlegend": true,
         "type": "scatter3d",
         "x": [
          -0.01676247500095085,
          2.242567891318183,
          0.563659445320018,
          -0.17506278516113388,
          0.484834448122849,
          0.8414840225480309,
          0.6271841708880764,
          0.47870996938457167,
          0.07513083918644914,
          -0.1926842736812618
         ],
         "y": [
          -0.036864299035184275,
          -0.0034096850188008155,
          0.8381218550984856,
          0.0832102142982882,
          0.7446246982223121,
          0.03998893241660429,
          0.48591570099852677,
          -0.027861206488781657,
          -0.04510974972573115,
          0.007827155996127474
         ],
         "z": [
          -0.15267192537705576,
          -0.06134191128845282,
          -0.11982627089521455,
          -0.058539164252335844,
          0.02817889886631587,
          0.41025228799493363,
          0.06464417532600196,
          -0.008706538531319476,
          0.025072838247316705,
          -0.011027576533216114
         ]
        }
       ],
       "layout": {
        "coloraxis": {
         "colorbar": {
          "title": {
           "text": "Class"
          }
         },
         "colorscale": [
          [
           0,
           "#0d0887"
          ],
          [
           0.1111111111111111,
           "#46039f"
          ],
          [
           0.2222222222222222,
           "#7201a8"
          ],
          [
           0.3333333333333333,
           "#9c179e"
          ],
          [
           0.4444444444444444,
           "#bd3786"
          ],
          [
           0.5555555555555556,
           "#d8576b"
          ],
          [
           0.6666666666666666,
           "#ed7953"
          ],
          [
           0.7777777777777778,
           "#fb9f3a"
          ],
          [
           0.8888888888888888,
           "#fdca26"
          ],
          [
           1,
           "#f0f921"
          ]
         ]
        },
        "legend": {
         "title": {
          "text": "Class"
         },
         "tracegroupgap": 0,
         "x": 0,
         "y": 1
        },
        "margin": {
         "t": 60
        },
        "scene": {
         "domain": {
          "x": [
           0,
           1
          ],
          "y": [
           0,
           1
          ]
         },
         "xaxis": {
          "title": {
           "text": "PC1"
          }
         },
         "yaxis": {
          "title": {
           "text": "PC2"
          }
         },
         "zaxis": {
          "title": {
           "text": "PC3"
          }
         }
        },
        "template": {
         "data": {
          "bar": [
           {
            "error_x": {
             "color": "#2a3f5f"
            },
            "error_y": {
             "color": "#2a3f5f"
            },
            "marker": {
             "line": {
              "color": "#E5ECF6",
              "width": 0.5
             },
             "pattern": {
              "fillmode": "overlay",
              "size": 10,
              "solidity": 0.2
             }
            },
            "type": "bar"
           }
          ],
          "barpolar": [
           {
            "marker": {
             "line": {
              "color": "#E5ECF6",
              "width": 0.5
             },
             "pattern": {
              "fillmode": "overlay",
              "size": 10,
              "solidity": 0.2
             }
            },
            "type": "barpolar"
           }
          ],
          "carpet": [
           {
            "aaxis": {
             "endlinecolor": "#2a3f5f",
             "gridcolor": "white",
             "linecolor": "white",
             "minorgridcolor": "white",
             "startlinecolor": "#2a3f5f"
            },
            "baxis": {
             "endlinecolor": "#2a3f5f",
             "gridcolor": "white",
             "linecolor": "white",
             "minorgridcolor": "white",
             "startlinecolor": "#2a3f5f"
            },
            "type": "carpet"
           }
          ],
          "choropleth": [
           {
            "colorbar": {
             "outlinewidth": 0,
             "ticks": ""
            },
            "type": "choropleth"
           }
          ],
          "contour": [
           {
            "colorbar": {
             "outlinewidth": 0,
             "ticks": ""
            },
            "colorscale": [
             [
              0,
              "#0d0887"
             ],
             [
              0.1111111111111111,
              "#46039f"
             ],
             [
              0.2222222222222222,
              "#7201a8"
             ],
             [
              0.3333333333333333,
              "#9c179e"
             ],
             [
              0.4444444444444444,
              "#bd3786"
             ],
             [
              0.5555555555555556,
              "#d8576b"
             ],
             [
              0.6666666666666666,
              "#ed7953"
             ],
             [
              0.7777777777777778,
              "#fb9f3a"
             ],
             [
              0.8888888888888888,
              "#fdca26"
             ],
             [
              1,
              "#f0f921"
             ]
            ],
            "type": "contour"
           }
          ],
          "contourcarpet": [
           {
            "colorbar": {
             "outlinewidth": 0,
             "ticks": ""
            },
            "type": "contourcarpet"
           }
          ],
          "heatmap": [
           {
            "colorbar": {
             "outlinewidth": 0,
             "ticks": ""
            },
            "colorscale": [
             [
              0,
              "#0d0887"
             ],
             [
              0.1111111111111111,
              "#46039f"
             ],
             [
              0.2222222222222222,
              "#7201a8"
             ],
             [
              0.3333333333333333,
              "#9c179e"
             ],
             [
              0.4444444444444444,
              "#bd3786"
             ],
             [
              0.5555555555555556,
              "#d8576b"
             ],
             [
              0.6666666666666666,
              "#ed7953"
             ],
             [
              0.7777777777777778,
              "#fb9f3a"
             ],
             [
              0.8888888888888888,
              "#fdca26"
             ],
             [
              1,
              "#f0f921"
             ]
            ],
            "type": "heatmap"
           }
          ],
          "heatmapgl": [
           {
            "colorbar": {
             "outlinewidth": 0,
             "ticks": ""
            },
            "colorscale": [
             [
              0,
              "#0d0887"
             ],
             [
              0.1111111111111111,
              "#46039f"
             ],
             [
              0.2222222222222222,
              "#7201a8"
             ],
             [
              0.3333333333333333,
              "#9c179e"
             ],
             [
              0.4444444444444444,
              "#bd3786"
             ],
             [
              0.5555555555555556,
              "#d8576b"
             ],
             [
              0.6666666666666666,
              "#ed7953"
             ],
             [
              0.7777777777777778,
              "#fb9f3a"
             ],
             [
              0.8888888888888888,
              "#fdca26"
             ],
             [
              1,
              "#f0f921"
             ]
            ],
            "type": "heatmapgl"
           }
          ],
          "histogram": [
           {
            "marker": {
             "pattern": {
              "fillmode": "overlay",
              "size": 10,
              "solidity": 0.2
             }
            },
            "type": "histogram"
           }
          ],
          "histogram2d": [
           {
            "colorbar": {
             "outlinewidth": 0,
             "ticks": ""
            },
            "colorscale": [
             [
              0,
              "#0d0887"
             ],
             [
              0.1111111111111111,
              "#46039f"
             ],
             [
              0.2222222222222222,
              "#7201a8"
             ],
             [
              0.3333333333333333,
              "#9c179e"
             ],
             [
              0.4444444444444444,
              "#bd3786"
             ],
             [
              0.5555555555555556,
              "#d8576b"
             ],
             [
              0.6666666666666666,
              "#ed7953"
             ],
             [
              0.7777777777777778,
              "#fb9f3a"
             ],
             [
              0.8888888888888888,
              "#fdca26"
             ],
             [
              1,
              "#f0f921"
             ]
            ],
            "type": "histogram2d"
           }
          ],
          "histogram2dcontour": [
           {
            "colorbar": {
             "outlinewidth": 0,
             "ticks": ""
            },
            "colorscale": [
             [
              0,
              "#0d0887"
             ],
             [
              0.1111111111111111,
              "#46039f"
             ],
             [
              0.2222222222222222,
              "#7201a8"
             ],
             [
              0.3333333333333333,
              "#9c179e"
             ],
             [
              0.4444444444444444,
              "#bd3786"
             ],
             [
              0.5555555555555556,
              "#d8576b"
             ],
             [
              0.6666666666666666,
              "#ed7953"
             ],
             [
              0.7777777777777778,
              "#fb9f3a"
             ],
             [
              0.8888888888888888,
              "#fdca26"
             ],
             [
              1,
              "#f0f921"
             ]
            ],
            "type": "histogram2dcontour"
           }
          ],
          "mesh3d": [
           {
            "colorbar": {
             "outlinewidth": 0,
             "ticks": ""
            },
            "type": "mesh3d"
           }
          ],
          "parcoords": [
           {
            "line": {
             "colorbar": {
              "outlinewidth": 0,
              "ticks": ""
             }
            },
            "type": "parcoords"
           }
          ],
          "pie": [
           {
            "automargin": true,
            "type": "pie"
           }
          ],
          "scatter": [
           {
            "marker": {
             "colorbar": {
              "outlinewidth": 0,
              "ticks": ""
             }
            },
            "type": "scatter"
           }
          ],
          "scatter3d": [
           {
            "line": {
             "colorbar": {
              "outlinewidth": 0,
              "ticks": ""
             }
            },
            "marker": {
             "colorbar": {
              "outlinewidth": 0,
              "ticks": ""
             }
            },
            "type": "scatter3d"
           }
          ],
          "scattercarpet": [
           {
            "marker": {
             "colorbar": {
              "outlinewidth": 0,
              "ticks": ""
             }
            },
            "type": "scattercarpet"
           }
          ],
          "scattergeo": [
           {
            "marker": {
             "colorbar": {
              "outlinewidth": 0,
              "ticks": ""
             }
            },
            "type": "scattergeo"
           }
          ],
          "scattergl": [
           {
            "marker": {
             "colorbar": {
              "outlinewidth": 0,
              "ticks": ""
             }
            },
            "type": "scattergl"
           }
          ],
          "scattermapbox": [
           {
            "marker": {
             "colorbar": {
              "outlinewidth": 0,
              "ticks": ""
             }
            },
            "type": "scattermapbox"
           }
          ],
          "scatterpolar": [
           {
            "marker": {
             "colorbar": {
              "outlinewidth": 0,
              "ticks": ""
             }
            },
            "type": "scatterpolar"
           }
          ],
          "scatterpolargl": [
           {
            "marker": {
             "colorbar": {
              "outlinewidth": 0,
              "ticks": ""
             }
            },
            "type": "scatterpolargl"
           }
          ],
          "scatterternary": [
           {
            "marker": {
             "colorbar": {
              "outlinewidth": 0,
              "ticks": ""
             }
            },
            "type": "scatterternary"
           }
          ],
          "surface": [
           {
            "colorbar": {
             "outlinewidth": 0,
             "ticks": ""
            },
            "colorscale": [
             [
              0,
              "#0d0887"
             ],
             [
              0.1111111111111111,
              "#46039f"
             ],
             [
              0.2222222222222222,
              "#7201a8"
             ],
             [
              0.3333333333333333,
              "#9c179e"
             ],
             [
              0.4444444444444444,
              "#bd3786"
             ],
             [
              0.5555555555555556,
              "#d8576b"
             ],
             [
              0.6666666666666666,
              "#ed7953"
             ],
             [
              0.7777777777777778,
              "#fb9f3a"
             ],
             [
              0.8888888888888888,
              "#fdca26"
             ],
             [
              1,
              "#f0f921"
             ]
            ],
            "type": "surface"
           }
          ],
          "table": [
           {
            "cells": {
             "fill": {
              "color": "#EBF0F8"
             },
             "line": {
              "color": "white"
             }
            },
            "header": {
             "fill": {
              "color": "#C8D4E3"
             },
             "line": {
              "color": "white"
             }
            },
            "type": "table"
           }
          ]
         },
         "layout": {
          "annotationdefaults": {
           "arrowcolor": "#2a3f5f",
           "arrowhead": 0,
           "arrowwidth": 1
          },
          "autotypenumbers": "strict",
          "coloraxis": {
           "colorbar": {
            "outlinewidth": 0,
            "ticks": ""
           }
          },
          "colorscale": {
           "diverging": [
            [
             0,
             "#8e0152"
            ],
            [
             0.1,
             "#c51b7d"
            ],
            [
             0.2,
             "#de77ae"
            ],
            [
             0.3,
             "#f1b6da"
            ],
            [
             0.4,
             "#fde0ef"
            ],
            [
             0.5,
             "#f7f7f7"
            ],
            [
             0.6,
             "#e6f5d0"
            ],
            [
             0.7,
             "#b8e186"
            ],
            [
             0.8,
             "#7fbc41"
            ],
            [
             0.9,
             "#4d9221"
            ],
            [
             1,
             "#276419"
            ]
           ],
           "sequential": [
            [
             0,
             "#0d0887"
            ],
            [
             0.1111111111111111,
             "#46039f"
            ],
            [
             0.2222222222222222,
             "#7201a8"
            ],
            [
             0.3333333333333333,
             "#9c179e"
            ],
            [
             0.4444444444444444,
             "#bd3786"
            ],
            [
             0.5555555555555556,
             "#d8576b"
            ],
            [
             0.6666666666666666,
             "#ed7953"
            ],
            [
             0.7777777777777778,
             "#fb9f3a"
            ],
            [
             0.8888888888888888,
             "#fdca26"
            ],
            [
             1,
             "#f0f921"
            ]
           ],
           "sequentialminus": [
            [
             0,
             "#0d0887"
            ],
            [
             0.1111111111111111,
             "#46039f"
            ],
            [
             0.2222222222222222,
             "#7201a8"
            ],
            [
             0.3333333333333333,
             "#9c179e"
            ],
            [
             0.4444444444444444,
             "#bd3786"
            ],
            [
             0.5555555555555556,
             "#d8576b"
            ],
            [
             0.6666666666666666,
             "#ed7953"
            ],
            [
             0.7777777777777778,
             "#fb9f3a"
            ],
            [
             0.8888888888888888,
             "#fdca26"
            ],
            [
             1,
             "#f0f921"
            ]
           ]
          },
          "colorway": [
           "#636efa",
           "#EF553B",
           "#00cc96",
           "#ab63fa",
           "#FFA15A",
           "#19d3f3",
           "#FF6692",
           "#B6E880",
           "#FF97FF",
           "#FECB52"
          ],
          "font": {
           "color": "#2a3f5f"
          },
          "geo": {
           "bgcolor": "white",
           "lakecolor": "white",
           "landcolor": "#E5ECF6",
           "showlakes": true,
           "showland": true,
           "subunitcolor": "white"
          },
          "hoverlabel": {
           "align": "left"
          },
          "hovermode": "closest",
          "mapbox": {
           "style": "light"
          },
          "paper_bgcolor": "white",
          "plot_bgcolor": "#E5ECF6",
          "polar": {
           "angularaxis": {
            "gridcolor": "white",
            "linecolor": "white",
            "ticks": ""
           },
           "bgcolor": "#E5ECF6",
           "radialaxis": {
            "gridcolor": "white",
            "linecolor": "white",
            "ticks": ""
           }
          },
          "scene": {
           "xaxis": {
            "backgroundcolor": "#E5ECF6",
            "gridcolor": "white",
            "gridwidth": 2,
            "linecolor": "white",
            "showbackground": true,
            "ticks": "",
            "zerolinecolor": "white"
           },
           "yaxis": {
            "backgroundcolor": "#E5ECF6",
            "gridcolor": "white",
            "gridwidth": 2,
            "linecolor": "white",
            "showbackground": true,
            "ticks": "",
            "zerolinecolor": "white"
           },
           "zaxis": {
            "backgroundcolor": "#E5ECF6",
            "gridcolor": "white",
            "gridwidth": 2,
            "linecolor": "white",
            "showbackground": true,
            "ticks": "",
            "zerolinecolor": "white"
           }
          },
          "shapedefaults": {
           "line": {
            "color": "#2a3f5f"
           }
          },
          "ternary": {
           "aaxis": {
            "gridcolor": "white",
            "linecolor": "white",
            "ticks": ""
           },
           "baxis": {
            "gridcolor": "white",
            "linecolor": "white",
            "ticks": ""
           },
           "bgcolor": "#E5ECF6",
           "caxis": {
            "gridcolor": "white",
            "linecolor": "white",
            "ticks": ""
           }
          },
          "title": {
           "x": 0.05
          },
          "xaxis": {
           "automargin": true,
           "gridcolor": "white",
           "linecolor": "white",
           "ticks": "",
           "title": {
            "standoff": 15
           },
           "zerolinecolor": "white",
           "zerolinewidth": 2
          },
          "yaxis": {
           "automargin": true,
           "gridcolor": "white",
           "linecolor": "white",
           "ticks": "",
           "title": {
            "standoff": 15
           },
           "zerolinecolor": "white",
           "zerolinewidth": 2
          }
         }
        },
        "width": 800
       }
      }
     },
     "metadata": {},
     "output_type": "display_data"
    }
   ],
   "source": [
    "# Creating a 3D-Scatter with the PCA data and the clusters\n",
    "fig = px.scatter_3d(\n",
    "    clustered_df,\n",
    "    x = 'PC1',\n",
    "    y = 'PC2',\n",
    "    z = 'PC3',\n",
    "    color = 'Class',\n",
    "    symbol = 'Class',\n",
    "    width = 800,\n",
    "    hover_name = 'reporting_phu',\n",
    "    hover_data = ['reporting_phu_city'],\n",
    ")\n",
    "fig.update_layout(legend=dict(x=0, y=1))\n",
    "fig.show()"
   ]
  },
  {
   "cell_type": "code",
   "execution_count": null,
   "metadata": {},
   "outputs": [],
   "source": [
    "# Plan:\n",
    "# Turn PHU_ID into index\n",
    "# PCA dataset\n",
    "# Put PCA dataset into dataframe\n",
    "# use dataframe for hierarchical clustering\n",
    "# recombine dataset with city and name\n",
    "# plot graph (hovering will show description)"
   ]
  }
 ],
 "metadata": {
  "interpreter": {
   "hash": "5d51d80b59c9e4faeb8adc34c604108e71ae0706fcc47c9b974a8805f0a38bf1"
  },
  "kernelspec": {
   "display_name": "Python 3.7.10 64-bit ('mlenv': conda)",
   "language": "python",
   "name": "python3"
  },
  "language_info": {
   "codemirror_mode": {
    "name": "ipython",
    "version": 3
   },
   "file_extension": ".py",
   "mimetype": "text/x-python",
   "name": "python",
   "nbconvert_exporter": "python",
   "pygments_lexer": "ipython3",
   "version": "3.7.10"
  },
  "orig_nbformat": 4
 },
 "nbformat": 4,
 "nbformat_minor": 2
}
